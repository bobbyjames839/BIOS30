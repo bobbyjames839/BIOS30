{
 "cells": [
  {
   "cell_type": "code",
   "execution_count": 4,
   "id": "7ef68209-3f4f-4c74-9a5f-354351bbea53",
   "metadata": {
    "editable": true,
    "jupyter": {
     "source_hidden": true
    },
    "slideshow": {
     "slide_type": ""
    },
    "tags": []
   },
   "outputs": [],
   "source": [
    "#Import everything for the code to work\n",
    "\n",
    "from IPython.display import display, Image, clear_output, HTML\n",
    "import time\n",
    "import ipywidgets as widgets\n",
    "from jupyter_ui_poll import ui_events\n",
    "import json\n",
    "import pandas as pd\n",
    "import requests \n",
    "from bs4 import BeautifulSoup\n",
    "import firebase_admin\n",
    "from firebase_admin import credentials, db\n",
    "from functions import send_to_google_form, initialize_firebase_app"
   ]
  },
  {
   "cell_type": "code",
   "execution_count": 5,
   "id": "be5f1719-08fa-4712-bd51-bc0934449e7f",
   "metadata": {
    "jupyter": {
     "source_hidden": true
    }
   },
   "outputs": [],
   "source": [
    "#This is the function that puts the data into a dict and sends it to the form\n",
    "\n",
    "def upload_data():\n",
    "\n",
    "    '''\n",
    "    This function stores the data that i want to send to the google forms in a dictionary\n",
    "\n",
    "    The results are pushed to the google forms as JSON data\n",
    "    '''\n",
    "    \n",
    "    results_data = {\n",
    "        'filename': ['grid1.png', 'grid1.png', 'grid1.png', 'grid1.png', 'grid1.png', \n",
    "                    'grid2.png', 'grid2.png', 'grid2.png', 'grid2.png', 'grid2.png', \n",
    "                    'grid3.png', 'grid3.png', 'grid3.png', 'grid3.png', 'grid3.png'],\n",
    "        'time': times,\n",
    "        'answer': answers\n",
    "    }\n",
    "    \n",
    "    myresults = pd.DataFrame(results_data)\n",
    "    results_json = myresults.to_json()\n",
    "    \n",
    "    \n",
    "    data_dict = {\n",
    "        'name': person_name,\n",
    "        'gender': gender,\n",
    "        'age': age,\n",
    "        'percent': percent,\n",
    "        'total time': total_time,\n",
    "        'score': score,\n",
    "        'results': results_json \n",
    "    }\n",
    "    \n",
    "    form_url = 'https://docs.google.com/forms/d/e/1FAIpQLSdyr40EJWAKo_DftRRBp9YIwOL8o6RXsOzYu27ZzNBH9Slbyw/viewform?usp=sf_link'\n",
    "    send_to_google_form(data_dict, form_url)\n"
   ]
  },
  {
   "cell_type": "code",
   "execution_count": 6,
   "id": "842d879c-d5e9-4196-9b15-85f18f70ce01",
   "metadata": {
    "jupyter": {
     "source_hidden": true
    }
   },
   "outputs": [],
   "source": [
    "#This will await the clicking of a button\n",
    "\n",
    "def wait_for_event(timeout=-1, interval=0.001, max_rate=20, allow_interupt=True):    \n",
    "    start_wait = time.time()\n",
    "\n",
    "    '''\n",
    "    This function will wait for the event of clicking of a button\n",
    "    \n",
    "    Stays in a loop until the button has been clicked\n",
    "    '''\n",
    "\n",
    "    # set event info to be empty\n",
    "    # as this is dict we can change entries\n",
    "    # directly without using\n",
    "    # the global keyword\n",
    "    event_info['type'] = \"\"\n",
    "    event_info['description'] = \"\"\n",
    "    event_info['time'] = -1\n",
    "\n",
    "    n_proc = int(max_rate*interval)+1\n",
    "    \n",
    "    with ui_events() as ui_poll:\n",
    "        keep_looping = True\n",
    "        while keep_looping==True:\n",
    "            # process UI events\n",
    "            ui_poll(n_proc)\n",
    "\n",
    "            # end loop if we have waited more than the timeout period\n",
    "            if (timeout != -1) and (time.time() > start_wait + timeout):\n",
    "                keep_looping = False\n",
    "                \n",
    "            # end loop if event has occured\n",
    "            if allow_interupt==True and event_info['description']!=\"\":\n",
    "                keep_looping = False\n",
    "                \n",
    "            # add pause before looping\n",
    "            # to check events again\n",
    "            time.sleep(interval)"
   ]
  },
  {
   "cell_type": "code",
   "execution_count": 7,
   "id": "7866e580-0155-4786-9000-ce51bd554245",
   "metadata": {
    "jupyter": {
     "source_hidden": true
    }
   },
   "outputs": [],
   "source": [
    "#This will wait, register and then clear the output when a button is clicked\n",
    "\n",
    "def submit_button():\n",
    "\n",
    "    '''\n",
    "    \n",
    "    here the buttton is being displayed \n",
    "\n",
    "    then we are waiting for the clicking of the button\n",
    "\n",
    "    upon the clicking of the button the event is registered \n",
    "    '''\n",
    "\n",
    "    \n",
    "    \n",
    "    confirm_btn = widgets.Button(description = \"Confirm\")\n",
    "    display(confirm_btn)\n",
    "    confirm_btn.on_click(register_btn_event)\n",
    "    wait_for_event()\n",
    "    clear_output(wait=False)\n",
    "    return"
   ]
  },
  {
   "cell_type": "code",
   "execution_count": 8,
   "id": "b2c891b6-00a4-463e-a6fb-029d21d36684",
   "metadata": {
    "jupyter": {
     "source_hidden": true
    }
   },
   "outputs": [],
   "source": [
    "#Registers the clicking of a button\n",
    "\n",
    "def register_btn_event(btn):\n",
    "\n",
    "    '''\n",
    "    registering the clicking of the button\n",
    "\n",
    "    the event info for the clicking is generated\n",
    "\n",
    "    stops the waiting for the event so the code can continue \n",
    "    '''\n",
    "    \n",
    "    event_info['type'] = \"click\"\n",
    "    event_info['description'] = btn.description\n",
    "    event_info['time'] = time.time()\n",
    "    return\n",
    "\n"
   ]
  },
  {
   "cell_type": "code",
   "execution_count": 9,
   "id": "1b70d1a8-7798-40f7-9e89-971379634896",
   "metadata": {
    "jupyter": {
     "source_hidden": true
    }
   },
   "outputs": [],
   "source": [
    "#Registers the clicking of a button in the questions section \n",
    "\n",
    "def register_event(btn, correct_ans):\n",
    "\n",
    "    '''\n",
    "    function specifically for the waiting of the button click in each question \n",
    "\n",
    "    we are also going to update the variable correct or incorrect depending on if the person gets it correct\n",
    "\n",
    "    globalise correct and incorrect so they can be used to calculate the score at the end\n",
    "    '''\n",
    "\n",
    "    global correct, incorrect\n",
    "    \n",
    "    event_info['type'] = \"click\"\n",
    "    event_info['description'] = btn.description\n",
    "    event_info['time'] = time.time()\n",
    "\n",
    "    if btn.description == correct_ans:\n",
    "        correct += 1\n",
    "        answers.append(1)\n",
    "    else:\n",
    "        incorrect += 1\n",
    "        answers.append(0)\n",
    "    return\n",
    "\n",
    "event_info = {\n",
    "    'type': '',\n",
    "    'description': '',\n",
    "    'time': -1\n",
    "}"
   ]
  },
  {
   "cell_type": "code",
   "execution_count": 10,
   "id": "d7397395-41d3-463e-bede-19bf58b5a26c",
   "metadata": {
    "jupyter": {
     "source_hidden": true
    }
   },
   "outputs": [],
   "source": [
    "#Calculate score of the user and display their ranking\n",
    "\n",
    "def calculate_score():\n",
    "\n",
    "    '''\n",
    "    this function will calculate the score at the end of the test\n",
    "\n",
    "    the score is added to the firebase database \n",
    "\n",
    "    data is then retrieved from the database so that the user can see how well they have done compared to others\n",
    "    '''\n",
    "    global percent, score\n",
    "\n",
    "    initialize_firebase_app()\n",
    "    \n",
    "    clear_output(wait=False)\n",
    "    \n",
    "    percent = correct / (incorrect + correct) * 100\n",
    "    score = percent \n",
    "    \n",
    "    time_over = total_time - 90\n",
    "    penalty_periods = time_over // 10\n",
    "    \n",
    "    for i in range(int(penalty_periods)):\n",
    "        score -= 5  \n",
    "    \n",
    "    print(f'You got {round(percent, 1)}% in {round(total_time, 1)} seconds.')\n",
    "    \n",
    "    if score > 0:\n",
    "        print(f'This gives you an overall score of {round(score, 1)}')\n",
    "    else:\n",
    "        print('You failed the test')\n",
    "\n",
    "    ref = db.reference('scores')\n",
    "    new_score_ref = ref.push({\n",
    "        'score': round(score, 1),\n",
    "    })\n",
    "\n",
    "    all_scores = ref.get()\n",
    "    if all_scores:\n",
    "\n",
    "        score_list = [all_scores[key]['score'] for key in all_scores]\n",
    "        score_list.sort(reverse=True)\n",
    "\n",
    "\n",
    "        rank = score_list.index(round(score, 1)) + 1\n",
    "        same_score_count = score_list.count(round(score, 1))\n",
    "        \n",
    "        if same_score_count > 1:\n",
    "            print(f'You are joint {rank} out of {len(score_list)} people.')\n",
    "        else:\n",
    "            print(f'You are {rank} out of {len(score_list)} people.')"
   ]
  },
  {
   "cell_type": "code",
   "execution_count": 11,
   "id": "8bb37105-b900-4deb-ae19-9bc9a56b2985",
   "metadata": {
    "jupyter": {
     "source_hidden": true
    }
   },
   "outputs": [],
   "source": [
    "#Display countdown message for user\n",
    "\n",
    "def timer(message):\n",
    "\n",
    "    '''\n",
    "    in each question we are displaying messages that show as a count down as the test\n",
    "\n",
    "    instead of printing multiple lines, one after the other, this function is more smooth, ie \n",
    "    the text is not being hidden and then displayed multiple times\n",
    "    '''\n",
    "    for i in range(3, 0, -1):\n",
    "        clear_output(wait=True)\n",
    "        print(message.format(i))\n",
    "        time.sleep(1)\n",
    "    clear_output(wait=True)\n"
   ]
  },
  {
   "cell_type": "code",
   "execution_count": 12,
   "id": "7bae331e-607a-4248-83fe-9456b229d4d2",
   "metadata": {
    "jupyter": {
     "source_hidden": true
    }
   },
   "outputs": [],
   "source": [
    "#Test part 1\n",
    "\n",
    "def get_details():\n",
    "\n",
    "    '''\n",
    "    this function gets the details of the user\n",
    "\n",
    "    we are getting the name, gender, age and whether or not the data is being shared\n",
    "\n",
    "    if the person doesnt want to share their data then the data is not sent to the google form\n",
    "\n",
    "    the user is not able to pass any of the stages of the function without entering a value\n",
    "    '''\n",
    "\n",
    "    global person_name, gender, age, shared_data\n",
    "\n",
    "    display(HTML(f'<span style=\"font-weight: bold;\">In this test you will be given 3 different grids, each grid will be shown for 20 seconds and will have 5 questions associated with it. Both speed and accuracy will be taken into account when calculating your mark'))\n",
    "    time.sleep(12)\n",
    "    clear_output(wait=False)\n",
    "\n",
    "    person_name = \"\"\n",
    "    while not person_name or person_name.isspace():\n",
    "        display(HTML(\"<span>Input your name here</span>\"))\n",
    "        person_name = input()\n",
    "        clear_output(wait=False)\n",
    "\n",
    "    age = None\n",
    "    while age is None:\n",
    "        print('What is your age?')\n",
    "        age_dropdown = widgets.Dropdown(options=[('Select Age', None)] + [(str(age), age) for age in range(18, 30)], value=None)\n",
    "        display(age_dropdown)\n",
    "        submit_button()\n",
    "        age = age_dropdown.value\n",
    "\n",
    "    gender_radiobuttons = widgets.RadioButtons(options=['Male', 'Female', 'Other'], description='What is your gender?', disabled=False)\n",
    "    display(gender_radiobuttons)\n",
    "    submit_button()\n",
    "    gender = gender_radiobuttons.value\n",
    "\n",
    "    display(HTML('Are you okay with sharing your data for the google forms?')) \n",
    "    data_permission = widgets.RadioButtons(options=['Yes', 'No'], disabled=False)\n",
    "    display(data_permission)\n",
    "    submit_button()\n",
    "    shared_data = data_permission.value\n"
   ]
  },
  {
   "cell_type": "code",
   "execution_count": 13,
   "id": "bec95f30-cce1-4371-8aab-35afcd965eac",
   "metadata": {
    "jupyter": {
     "source_hidden": true
    }
   },
   "outputs": [],
   "source": [
    "#Test part 2\n",
    "\n",
    "def intro(url, message):\n",
    "\n",
    "    '''\n",
    "    this is the intro to each question \n",
    "\n",
    "    we are displaying an image for 20 seconds for every question\n",
    "    '''\n",
    "    \n",
    "    clear_output(wait=False)\n",
    "\n",
    "    print(message)\n",
    "    time.sleep(1)\n",
    "\n",
    "    timer('Image showing in {} seconds')\n",
    "    \n",
    "    grid1 = Image(f'{url}', width=300)\n",
    "    display(grid1)\n",
    "    time.sleep(20)\n",
    "    clear_output(wait=False)\n",
    "    time.sleep(1)\n",
    "    \n",
    "    timer('Test starting in {} seconds')"
   ]
  },
  {
   "cell_type": "code",
   "execution_count": 14,
   "id": "0fde6e67-7092-4d51-9a3a-5b1837905cb3",
   "metadata": {
    "jupyter": {
     "source_hidden": true
    }
   },
   "outputs": [],
   "source": [
    "#Test part 3\n",
    "\n",
    "def question(question, btn1, btn2, btn3, btn4, correct_ans):\n",
    "\n",
    "    '''\n",
    "    4 buttons are displayed for each question, if the user clicks the correct one they have got the question correct\n",
    "\n",
    "    upon the clcking of any button, the event is registered and correct += 1 if correct and incorrect += 1 if incorrect\n",
    "\n",
    "    the buttons are displayed as a panel\n",
    "\n",
    "    the time taken for each question is measured\n",
    "    '''\n",
    "\n",
    "    global total_time, correct, incorrect \n",
    "\n",
    "    key = Image('key.png', width=1000)\n",
    "    display(key)\n",
    "\n",
    "    display(HTML(f'<span style=\"font-weight: bold;\">{question}</span>'))\n",
    "    start_time = time.time()\n",
    "        \n",
    "    btn1 = widgets.Button(description=btn1)\n",
    "    btn2 = widgets.Button(description=btn2)\n",
    "    btn3 = widgets.Button(description=btn3)\n",
    "    btn4 = widgets.Button(description=btn4)\n",
    "\n",
    "    btn1.on_click(lambda btn: register_event(btn, correct_ans)) \n",
    "    btn2.on_click(lambda btn: register_event(btn, correct_ans)) \n",
    "    btn3.on_click(lambda btn: register_event(btn, correct_ans))\n",
    "    btn4.on_click(lambda btn: register_event(btn, correct_ans))\n",
    "\n",
    "    panel = widgets.HBox([btn1, btn2, btn3, btn4])\n",
    "    display(panel)\n",
    "\n",
    "    wait_for_event()\n",
    "    clear_output(wait=False)\n",
    "    \n",
    "    end_time = time.time()\n",
    "    time_taken = end_time - start_time\n",
    "    times.append(time_taken)\n",
    "    total_time += time_taken\n",
    "      "
   ]
  },
  {
   "cell_type": "code",
   "execution_count": 15,
   "id": "714e7499-b926-4944-9902-1baa67a2a558",
   "metadata": {
    "jupyter": {
     "source_hidden": true
    }
   },
   "outputs": [],
   "source": [
    "#Complete function for the test\n",
    "\n",
    "def run_test():\n",
    "\n",
    "    '''\n",
    "    this is the complete function for the test\n",
    "\n",
    "    there are 3 different images displayed\n",
    "\n",
    "    5 questions associated with each image \n",
    "\n",
    "    score is calculated at the end\n",
    "\n",
    "    data is only uploaded at the end if the user gives us permission to \n",
    "    '''\n",
    "    \n",
    "    \n",
    "    global correct, incorrect, times, answers, total_time, score, percent\n",
    "\n",
    "    get_details()\n",
    "    \n",
    "    intro('grid1.png', 'Level easy')\n",
    "    \n",
    "    question('What was between the rectangle and triangle?', 'square', 'circle', 'cross', 'star', 'circle')\n",
    "    question('What colour was the square?', 'red', 'green', 'orange', 'blue', 'red')\n",
    "    question('Where was the star?', 'bottom right', 'bottom middle', 'top right', 'bottom left', 'bottom left')\n",
    "    question('What was purple?', 'circle', 'cross', 'rectangle', 'square', 'rectangle')\n",
    "    question('What was above the cross?', 'triangle', 'circle', 'rectangle', 'square', 'triangle')\n",
    "    \n",
    "    intro('grid2.png', 'Level medium')\n",
    "    \n",
    "    question('What was the colour of the shape in the top right?', 'pink', 'purple', 'yellow', 'red', 'yellow')\n",
    "    question('What was the middle left shape?', 'triangle', 'pentagon', 'star', 'rectangle', 'triangle')\n",
    "    question('Where was the pentagon?', 'top right', 'top left', 'bottom left', 'bottom right', 'top left')\n",
    "    question('What was between the circle and the diamond?', 'cross', 'ellipse', 'star', 'square', 'square')\n",
    "    question('How many of the shapes had rounded edges?', 'one', 'two', 'three', 'four', 'two')\n",
    "    \n",
    "    intro('grid3.png', 'Level hard')\n",
    "    \n",
    "    question('Where was the green circle?', 'bottom middle', 'bottom left', 'bottom right', 'middle right', 'bottom right')\n",
    "    question('In the top left the big shape was a triangle, what was the small shape?', 'triangle', 'square', 'rectangle', 'cross', 'triangle')\n",
    "    question('What colour was the central big shape?', 'blue', 'red', 'orange', 'yellow', 'yellow')\n",
    "    question('What was the small shape in the middle of the big triangle and big cross?', 'pentagon', 'square', 'rectangle', 'star', 'square')\n",
    "    question('Are there any cells with the two shapes being yellow and blue?','x', 'yes', 'no', 'x', 'yes')\n",
    "\n",
    "    calculate_score()\n",
    "\n",
    "    if shared_data == 'Yes':\n",
    "        upload_data()\n",
    "        print('Your data was uploaded successfully')\n",
    "    else:\n",
    "        print('Please be ensured that your data has not been uploaded')\n",
    "    \n"
   ]
  },
  {
   "cell_type": "code",
   "execution_count": 16,
   "id": "ecd1a7b2-50ab-467d-8a88-ad3016acdf89",
   "metadata": {},
   "outputs": [
    {
     "name": "stdout",
     "output_type": "stream",
     "text": [
      "You got 33.3% in 11.9 seconds.\n",
      "This gives you an overall score of 33.3\n",
      "You are joint 10 out of 22 people.\n",
      "Your data was uploaded successfully\n"
     ]
    }
   ],
   "source": [
    "#Complete test here\n",
    "\n",
    "correct = 0\n",
    "incorrect = 0\n",
    "times = []\n",
    "answers = [] \n",
    "total_time = 0\n",
    "score = 0\n",
    "percent = 0\n",
    "shared_data = None\n",
    "\n",
    "run_test()"
   ]
  }
 ],
 "metadata": {
  "kernelspec": {
   "display_name": "Python 3 (ipykernel)",
   "language": "python",
   "name": "python3"
  },
  "language_info": {
   "codemirror_mode": {
    "name": "ipython",
    "version": 3
   },
   "file_extension": ".py",
   "mimetype": "text/x-python",
   "name": "python",
   "nbconvert_exporter": "python",
   "pygments_lexer": "ipython3",
   "version": "3.11.0"
  }
 },
 "nbformat": 4,
 "nbformat_minor": 5
}
