{
 "cells": [
  {
   "cell_type": "code",
   "execution_count": 242,
   "id": "7ef68209-3f4f-4c74-9a5f-354351bbea53",
   "metadata": {
    "jupyter": {
     "source_hidden": true
    }
   },
   "outputs": [],
   "source": [
    "from IPython.display import display, Image, clear_output, HTML\n",
    "import time\n",
    "import ipywidgets as widgets\n",
    "from jupyter_ui_poll import ui_events\n",
    "import json\n",
    "import pandas as pd\n",
    "import requests \n",
    "from bs4 import BeautifulSoup"
   ]
  },
  {
   "cell_type": "code",
   "execution_count": 243,
   "id": "d2c97585-c060-43c5-ad59-2804e22c3b02",
   "metadata": {
    "jupyter": {
     "source_hidden": true
    }
   },
   "outputs": [],
   "source": [
    "#this is the function that sends the data to the google form\n",
    "\n",
    "def send_to_google_form(data_dict, form_url):\n",
    "\n",
    "    form_id = form_url[34:90]\n",
    "    view_form_url = f'https://docs.google.com/forms/d/e/{form_id}/viewform'\n",
    "    post_form_url = f'https://docs.google.com/forms/d/e/{form_id}/formResponse'\n",
    "\n",
    "    page = requests.get(view_form_url)\n",
    "    content = BeautifulSoup(page.content, \"html.parser\").find('script', type='text/javascript')\n",
    "    content = content.text[27:-1]\n",
    "    result = json.loads(content)[1][1]\n",
    "    form_dict = {}\n",
    "    \n",
    "    loaded_all = True\n",
    "    for item in result:\n",
    "        if item[1] not in data_dict:\n",
    "            print(f\"Form item {item[1]} not found. Data not uploaded.\")\n",
    "            loaded_all = False\n",
    "            return False\n",
    "        form_dict[f'entry.{item[4][0][0]}'] = data_dict[item[1]]\n",
    "    \n",
    "    post_result = requests.post(post_form_url, data=form_dict)\n",
    "    return post_result.ok"
   ]
  },
  {
   "cell_type": "code",
   "execution_count": 244,
   "id": "b0364b6c-fa20-47d7-8a9f-a230021c6086",
   "metadata": {
    "jupyter": {
     "source_hidden": true
    }
   },
   "outputs": [],
   "source": [
    "#registers the clicking of a button\n",
    "\n",
    "def register_btn_event(btn):\n",
    "    event_info['type'] = \"button click\"\n",
    "    event_info['description'] = btn.description\n",
    "    event_info['time'] = time.time()\n",
    "    return"
   ]
  },
  {
   "cell_type": "code",
   "execution_count": 245,
   "id": "0c420f78-68d8-47c6-b0ca-000c39f63c2a",
   "metadata": {
    "jupyter": {
     "source_hidden": true
    }
   },
   "outputs": [],
   "source": [
    "#this function will be triggered when someone clicks the button in the get_details section  \n",
    "\n",
    "def submit_button():\n",
    "    confirm_btn = widgets.Button(description = \"Confirm\")\n",
    "    display(confirm_btn)\n",
    "    confirm_btn.on_click(register_btn_event)\n",
    "    wait_for_event()\n",
    "    clear_output(wait=False)\n",
    "    return"
   ]
  },
  {
   "cell_type": "code",
   "execution_count": 246,
   "id": "8bb37105-b900-4deb-ae19-9bc9a56b2985",
   "metadata": {
    "jupyter": {
     "source_hidden": true
    }
   },
   "outputs": [],
   "source": [
    "#used to display a message for the user with a countdown feature in it\n",
    "\n",
    "def timer(message):\n",
    "    for i in range(3, 0, -1):\n",
    "        clear_output(wait=True)\n",
    "        print(message.format(i))\n",
    "        time.sleep(1)\n",
    "    clear_output(wait=True)"
   ]
  },
  {
   "cell_type": "code",
   "execution_count": 247,
   "id": "bec95f30-cce1-4371-8aab-35afcd965eac",
   "metadata": {
    "jupyter": {
     "source_hidden": true
    }
   },
   "outputs": [],
   "source": [
    "#the intro for each of the three questions in the test\n",
    "\n",
    "def intro(url, message):\n",
    "    clear_output(wait=False)\n",
    "\n",
    "    print(message)\n",
    "    time.sleep(1)\n",
    "\n",
    "    timer('Image showing in {} seconds')\n",
    "    \n",
    "    grid1 = Image(f'{url}', width=300)\n",
    "    display(grid1)\n",
    "    time.sleep(20)\n",
    "    clear_output(wait=False)\n",
    "    time.sleep(1)\n",
    "    \n",
    "    timer('Test starting in {} seconds')"
   ]
  },
  {
   "cell_type": "code",
   "execution_count": 248,
   "id": "abdf2dcb-92ed-4d19-a0d0-0296fd921077",
   "metadata": {
    "jupyter": {
     "source_hidden": true
    }
   },
   "outputs": [],
   "source": [
    "#waits for the clicking of a button\n",
    "\n",
    "def wait_for_event(timeout=-1, interval=0.001, max_rate=20, allow_interupt=True):    \n",
    "    start_wait = time.time()\n",
    "\n",
    "    # set event info to be empty\n",
    "    # as this is dict we can change entries\n",
    "    # directly without using\n",
    "    # the global keyword\n",
    "    event_info['type'] = \"\"\n",
    "    event_info['description'] = \"\"\n",
    "    event_info['time'] = -1\n",
    "\n",
    "    n_proc = int(max_rate*interval)+1\n",
    "    \n",
    "    with ui_events() as ui_poll:\n",
    "        keep_looping = True\n",
    "        while keep_looping==True:\n",
    "            # process UI events\n",
    "            ui_poll(n_proc)\n",
    "\n",
    "            # end loop if we have waited more than the timeout period\n",
    "            if (timeout != -1) and (time.time() > start_wait + timeout):\n",
    "                keep_looping = False\n",
    "                \n",
    "            # end loop if event has occured\n",
    "            if allow_interupt==True and event_info['description']!=\"\":\n",
    "                keep_looping = False\n",
    "                \n",
    "            # add pause before looping\n",
    "            # to check events again\n",
    "            time.sleep(interval)"
   ]
  },
  {
   "cell_type": "code",
   "execution_count": 249,
   "id": "305daf90-5d04-43ed-bf54-e1ef3d03e861",
   "metadata": {
    "jupyter": {
     "source_hidden": true
    }
   },
   "outputs": [],
   "source": [
    "#separate function for the clicking of a button within the question, this will also update the number of correct and incorrect answers\n",
    "\n",
    "def register_event(btn, correct_ans):\n",
    "\n",
    "    global correct, incorrect\n",
    "    \n",
    "    event_info['type'] = \"click\"\n",
    "    event_info['description'] = btn.description\n",
    "    event_info['time'] = time.time()\n",
    "\n",
    "    if btn.description == correct_ans:\n",
    "        correct += 1\n",
    "        answers.append(1)\n",
    "    else:\n",
    "        incorrect += 1\n",
    "        answers.append(0)\n",
    "    return\n",
    "\n",
    "event_info = {\n",
    "    'type': '',\n",
    "    'description': '',\n",
    "    'time': -1\n",
    "}"
   ]
  },
  {
   "cell_type": "code",
   "execution_count": 260,
   "id": "7bae331e-607a-4248-83fe-9456b229d4d2",
   "metadata": {
    "jupyter": {
     "source_hidden": true
    }
   },
   "outputs": [],
   "source": [
    "#gets the details of the users\n",
    "\n",
    "def get_details():\n",
    "\n",
    "    global person_name, gender, age\n",
    "\n",
    "    print('In this test you will be given 3 different grids, each grid will be shown for 20 seconds and will have 5 questions associated with it.' + \n",
    "    '\\nBoth speed and accuracy will be taken into account when calculating your mark')\n",
    "    time.sleep(15)\n",
    "    clear_output(wait=False)\n",
    "    \n",
    "    display(HTML(\"<span>Input your name here</span>\"))\n",
    "    person_name = input()\n",
    "    clear_output(wait=False)\n",
    "    \n",
    "    print('What is your age?')\n",
    "    age_dropdown = widgets.Dropdown(options=[('Select Age', None)] + [(str(age), age) for age in range(18, 30)], value=None)\n",
    "    \n",
    "    display(age_dropdown)\n",
    "    submit_button()\n",
    "\n",
    "    gender_radiobuttons = widgets.RadioButtons(options=['Male', 'Female', 'Other'], description='What is your gender?', disabled=False)\n",
    "    \n",
    "    display(gender_radiobuttons)\n",
    "    submit_button()\n",
    "\n",
    "    age = age_dropdown.value\n",
    "    gender = gender_radiobuttons.value\n"
   ]
  },
  {
   "cell_type": "code",
   "execution_count": 251,
   "id": "0fde6e67-7092-4d51-9a3a-5b1837905cb3",
   "metadata": {
    "jupyter": {
     "source_hidden": true
    }
   },
   "outputs": [],
   "source": [
    "#represents a question for the test\n",
    "\n",
    "def question(question, btn1, btn2, btn3, btn4, correct_ans):\n",
    "\n",
    "    global total_time, correct, incorrect \n",
    "\n",
    "    key = Image('key.png', width=1000)\n",
    "    display(key)\n",
    "\n",
    "    display(HTML(f'<span>{question}</span>'))\n",
    "    start_time = time.time()\n",
    "\n",
    "    btn1 = widgets.Button(description=btn1)\n",
    "    btn2 = widgets.Button(description=btn2)\n",
    "    btn3 = widgets.Button(description=btn3)\n",
    "    btn4 = widgets.Button(description=btn4)\n",
    "\n",
    "    btn1.on_click(lambda btn: register_event(btn, correct_ans)) \n",
    "    btn2.on_click(lambda btn: register_event(btn, correct_ans)) \n",
    "    btn3.on_click(lambda btn: register_event(btn, correct_ans))\n",
    "    btn4.on_click(lambda btn: register_event(btn, correct_ans))\n",
    "\n",
    "    panel = widgets.HBox([btn1, btn2, btn3, btn4])\n",
    "    display(panel)\n",
    "\n",
    "    wait_for_event()\n",
    "    clear_output(wait=False)\n",
    "    \n",
    "    end_time = time.time()\n",
    "    time_taken = end_time - start_time\n",
    "    times.append(time_taken)\n",
    "    total_time += time_taken\n",
    "      "
   ]
  },
  {
   "cell_type": "code",
   "execution_count": 262,
   "id": "a7c3e999-0982-4f4c-a9d9-0e6a4b0ca6c1",
   "metadata": {
    "jupyter": {
     "source_hidden": true
    }
   },
   "outputs": [],
   "source": [
    "#calculates the score for the user\n",
    "\n",
    "def calculate_score():\n",
    "\n",
    "    global percent, score\n",
    "    \n",
    "    clear_output(wait=False)\n",
    "    \n",
    "    percent = correct / (incorrect + correct) * 100\n",
    "    score = percent \n",
    "    \n",
    "    time_over = total_time - 90\n",
    "    penalty_periods = time_over // 10\n",
    "    \n",
    "    for i in range(int(penalty_periods)):\n",
    "        score -= 5  \n",
    "    \n",
    "    print(f'You got {round(percent, 1)}% in {round(total_time, 1)} seconds.')\n",
    "    \n",
    "    if score > 0:\n",
    "        print(f'This gives you an overall score of {round(score, 1)}')\n",
    "    else:\n",
    "        print('You failed the test')"
   ]
  },
  {
   "cell_type": "code",
   "execution_count": 264,
   "id": "714e7499-b926-4944-9902-1baa67a2a558",
   "metadata": {
    "jupyter": {
     "source_hidden": true
    }
   },
   "outputs": [],
   "source": [
    "#whole test\n",
    "\n",
    "def run_test():\n",
    "    \n",
    "    global correct, incorrect, times, answers, total_time, score, percent\n",
    "\n",
    "    get_details()\n",
    "    \n",
    "    intro('grid1.png', 'Level easy')\n",
    "    \n",
    "    question('What was between the rectangle and triangle?', 'square', 'circle', 'cross', 'star', 'circle')\n",
    "    question('What colour was the square?', 'red', 'green', 'orange', 'blue', 'red')\n",
    "    question('Where was the star?', 'bottom right', 'bottom middle', 'top right', 'bottom left', 'bottom left')\n",
    "    question('What was purple?', 'circle', 'cross', 'rectangle', 'square', 'rectangle')\n",
    "    question('What was above the cross?', 'triangle', 'circle', 'rectangle', 'square', 'triangle')\n",
    "    \n",
    "    intro('grid2.png', 'Level medium')\n",
    "    \n",
    "    question('What was the colour of the shape in the top right?', 'pink', 'purple', 'yellow', 'red', 'yellow')\n",
    "    question('What was the middle left shape?', 'triangle', 'pentagon', 'star', 'rectangle', 'triangle')\n",
    "    question('Where was the pentagon?', 'top right', 'top left', 'bottom left', 'bottom right', 'top left')\n",
    "    question('What was between the circle and the diamond?', 'cross', 'ellipse', 'star', 'square', 'square')\n",
    "    question('How many of the shapes had rounded edges?', 'one', 'two', 'three', 'four', 'two')\n",
    "    \n",
    "    intro('grid3.png', 'Level hard')\n",
    "    \n",
    "    question('Where was the green circle?', 'bottom middle', 'bottom left', 'bottom right', 'middle right', 'bottom right')\n",
    "    question('In the top right the big shape was a triangle, what was the small shape?', 'triangle', 'square', 'rectangle', 'cross', 'triangle')\n",
    "    question('What colour was the central big shape?', 'blue', 'red', 'orange', 'yellow', 'yellow')\n",
    "    question('What was the small shape in the middle of the big triangle and big cross?', 'pentagon', 'square', 'rectangle', 'star', 'square')\n",
    "    question('Are there any cells with the two shapes being yellow and blue?','x', 'yes', 'no', 'x', 'yes')\n",
    "\n",
    "    calculate_score()\n",
    "    \n",
    "    upload_data()\n"
   ]
  },
  {
   "cell_type": "code",
   "execution_count": 253,
   "id": "b3dc68df-3647-4e29-b3d1-dcc6bf791abd",
   "metadata": {
    "jupyter": {
     "source_hidden": true
    }
   },
   "outputs": [],
   "source": [
    "#sending data to the google form\n",
    "\n",
    "def upload_data():\n",
    "    \n",
    "    results_data = {\n",
    "        'filename': ['grid1.png', 'grid1.png', 'grid1.png', 'grid1.png', 'grid1.png', \n",
    "                    'grid2.png', 'grid2.png', 'grid2.png', 'grid2.png', 'grid2.png', \n",
    "                    'grid3.png', 'grid3.png', 'grid3.png', 'grid3.png', 'grid3.png'],\n",
    "        'time': times,\n",
    "        'answer': answers\n",
    "    }\n",
    "    \n",
    "    myresults = pd.DataFrame(results_data)\n",
    "    results_json = myresults.to_json()\n",
    "    \n",
    "    \n",
    "    data_dict = {\n",
    "        'name': person_name,\n",
    "        'gender': gender,\n",
    "        'age': age,\n",
    "        'percent': percent,\n",
    "        'total time': total_time,\n",
    "        'score': score,\n",
    "        'results': results_json \n",
    "    }\n",
    "    \n",
    "    form_url = 'https://docs.google.com/forms/d/e/1FAIpQLSf6VxaewHHjuZ0vbNP-7zDOg1I_zJ8F9dhOmJF7KWztlAuJ5A/viewform?usp=sf_link'\n",
    "    send_to_google_form(data_dict, form_url)"
   ]
  },
  {
   "cell_type": "code",
   "execution_count": 265,
   "id": "ecd1a7b2-50ab-467d-8a88-ad3016acdf89",
   "metadata": {
    "jupyter": {
     "source_hidden": true
    }
   },
   "outputs": [
    {
     "name": "stdout",
     "output_type": "stream",
     "text": [
      "You got 26.7% in 5.9 seconds.\n",
      "This gives you an overall score of 26.7\n"
     ]
    }
   ],
   "source": [
    "#click here to do the test\n",
    "\n",
    "correct = 0\n",
    "incorrect = 0\n",
    "times = []\n",
    "answers = [] \n",
    "total_time = 0\n",
    "score = 0\n",
    "percent = 0\n",
    "\n",
    "run_test()"
   ]
  }
 ],
 "metadata": {
  "kernelspec": {
   "display_name": "Python 3 (ipykernel)",
   "language": "python",
   "name": "python3"
  },
  "language_info": {
   "codemirror_mode": {
    "name": "ipython",
    "version": 3
   },
   "file_extension": ".py",
   "mimetype": "text/x-python",
   "name": "python",
   "nbconvert_exporter": "python",
   "pygments_lexer": "ipython3",
   "version": "3.11.0"
  }
 },
 "nbformat": 4,
 "nbformat_minor": 5
}
